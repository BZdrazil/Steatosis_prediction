{
 "cells": [
  {
   "cell_type": "code",
   "execution_count": 1,
   "metadata": {},
   "outputs": [],
   "source": [
    "import warnings\n",
    "warnings.filterwarnings(\"ignore\")\n",
    "import os, sys\n",
    "import numpy as np\n",
    "import pandas as pd\n",
    "import pickle"
   ]
  },
  {
   "cell_type": "code",
   "execution_count": 2,
   "metadata": {},
   "outputs": [],
   "source": [
    "#number of bags for stratified bagging\n",
    "number_of_bags=64\n",
    "\n",
    "#ADD descpitor column infomation\n",
    "d1= 1 #starting column number\n",
    "d2= 27 #ending column number\n",
    "\n",
    "path= os.getcwd()"
   ]
  },
  {
   "cell_type": "code",
   "execution_count": 3,
   "metadata": {},
   "outputs": [],
   "source": [
    "#Path to the test file\n",
    "\n",
    "test_file = os.path.join(path,'test_data/sample_test_file.csv')"
   ]
  },
  {
   "cell_type": "code",
   "execution_count": 4,
   "metadata": {},
   "outputs": [],
   "source": [
    "dataset_test = pd.read_csv(test_file, delimiter=',')\n",
    "X_test = dataset_test.iloc[:,d1:d2]"
   ]
  },
  {
   "cell_type": "code",
   "execution_count": 5,
   "metadata": {},
   "outputs": [],
   "source": [
    "#load model from computer/folder\n",
    "\n",
    "model_path = os.path.join(path,'SB_models/')\n",
    "modelList=[]\n",
    "model_count=0\n",
    "for i in range (number_of_bags):\n",
    "        model_name= model_path + 'model_' + str(model_count)\n",
    "        modelList.append(pickle.load(open(model_name, 'rb')))\n",
    "        model_count= model_count + 1"
   ]
  },
  {
   "cell_type": "code",
   "execution_count": 6,
   "metadata": {},
   "outputs": [],
   "source": [
    "# make predictions for test data\n",
    "\n",
    "#define list that contains all bagging prediction for test set(subsets; 64) \n",
    "pred_Bag_savedModel=[]\n",
    "pred_prob_Bag_savedModel=[]\n",
    "\n",
    "for i in range (number_of_bags):\n",
    "    y_pred_prob_savedModel = modelList[i].predict_proba(X_test)[:, 1]\n",
    "    y_pred_prob_savedModel = np.round(y_pred_prob_savedModel, 2)\n",
    "    pred_prob_Bag_savedModel.append (y_pred_prob_savedModel)"
   ]
  },
  {
   "cell_type": "code",
   "execution_count": 7,
   "metadata": {},
   "outputs": [],
   "source": [
    "#Pred Prob list to dataframe\n",
    "pred_prob_Bag_savedModel_df = pd.DataFrame(pred_prob_Bag_savedModel) \n",
    "\n",
    "#Pred Prob list to dataframe--transporsed\n",
    "pred_prob_Bag_savedModel_df_transposed = pred_prob_Bag_savedModel_df.T \n",
    "\n",
    "#Final test data predictions\n",
    "pred_prob_Bag_savedModel_df_transposed['Probability_of_prediction']= pred_prob_Bag_savedModel_df_transposed.iloc[:,:].mean(axis=1)\n",
    "\n",
    "# join test prediction to the test set\n",
    "Final_test_pred_savedModel= pd.concat([dataset_test, pred_prob_Bag_savedModel_df_transposed], axis=1)\n",
    "Final_test_pred_savedModel.loc[Final_test_pred_savedModel['Probability_of_prediction'] >= 0.5, 'prediction_class'] = 1\n",
    "Final_test_pred_savedModel.loc[Final_test_pred_savedModel['Probability_of_prediction'] < 0.5, 'prediction_class'] = 0\n",
    "Final_test_pred_savedModel['prediction_class'] = Final_test_pred_savedModel['prediction_class'].astype(np.int64)\n",
    "\n",
    "Final_test_pred_savedModel_output = Final_test_pred_savedModel[['Molecule name', 'Probability_of_prediction','prediction_class']].copy()\n"
   ]
  },
  {
   "cell_type": "code",
   "execution_count": 8,
   "metadata": {},
   "outputs": [],
   "source": [
    "#Output file name\n",
    "\n",
    "output_path = os.path.join(path,'output_predictions/')\n",
    "\n",
    "Final_test_pred_savedModel_output.to_csv(output_path + 'predictions.csv',index=False)\n"
   ]
  }
 ],
 "metadata": {
  "kernelspec": {
   "display_name": "Python 3",
   "language": "python",
   "name": "python3"
  },
  "language_info": {
   "codemirror_mode": {
    "name": "ipython",
    "version": 3
   },
   "file_extension": ".py",
   "mimetype": "text/x-python",
   "name": "python",
   "nbconvert_exporter": "python",
   "pygments_lexer": "ipython3",
   "version": "3.7.7"
  }
 },
 "nbformat": 4,
 "nbformat_minor": 4
}
